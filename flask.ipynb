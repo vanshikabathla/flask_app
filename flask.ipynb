{
 "cells": [
  {
   "cell_type": "code",
   "execution_count": null,
   "id": "8622d387-a525-4df6-a902-9f29b6e11757",
   "metadata": {},
   "outputs": [],
   "source": [
    "1 Flask is a web framework, it's a Python module that lets you develop web applications easily. \n",
    "Adavantages of flask framework is that it has higher flexibility. higher compatibility with latest technologies. high scalability for simple web applications "
   ]
  },
  {
   "cell_type": "code",
   "execution_count": null,
   "id": "ea0fe00a-9e23-47b3-b248-1e7d05db4afd",
   "metadata": {},
   "outputs": [],
   "source": [
    "2 from flask import Flask\n",
    "\n",
    "app = Flask(__name__)\n",
    "\n",
    "@app.route(\"/\")\n",
    "def hello_world():\n",
    "    return \"<h1>Hello, World!</h1>\"\n"
   ]
  },
  {
   "cell_type": "code",
   "execution_count": null,
   "id": "c0a5daec-7f1a-478b-bdd9-170bf3913bff",
   "metadata": {},
   "outputs": [],
   "source": [
    "3 App routing is used to map the specific URL with the associated function that is intended to perform some task.\n",
    "It is used to access some particular page like Flask Tutorial in the web applicatio"
   ]
  },
  {
   "cell_type": "code",
   "execution_count": null,
   "id": "9aa7cc5a-7a2b-48eb-8365-8dc02d46d582",
   "metadata": {},
   "outputs": [],
   "source": [
    "4 from flask import flask\n",
    "\n",
    "app = Flask(__ABCCorporation__)\n",
    "\n",
    "@app.route(\"/welcome\")\n",
    "def welcome():\n",
    "    return \"Welcome to ABC Corporation\""
   ]
  },
  {
   "cell_type": "code",
   "execution_count": null,
   "id": "637976ff-7087-4939-b3ac-5ead1d6e9921",
   "metadata": {},
   "outputs": [],
   "source": [
    "5 The url_for() function is used to build a URL to the specific function dynamically\n",
    "@app.route(\"/test2/test2\")\n",
    "def test2():\n",
    "    data = request.args.get('x')\n",
    "    return \"this is a data input for my url {}\",format(data)\n"
   ]
  }
 ],
 "metadata": {
  "kernelspec": {
   "display_name": "Python 3 (ipykernel)",
   "language": "python",
   "name": "python3"
  },
  "language_info": {
   "codemirror_mode": {
    "name": "ipython",
    "version": 3
   },
   "file_extension": ".py",
   "mimetype": "text/x-python",
   "name": "python",
   "nbconvert_exporter": "python",
   "pygments_lexer": "ipython3",
   "version": "3.10.8"
  }
 },
 "nbformat": 4,
 "nbformat_minor": 5
}
